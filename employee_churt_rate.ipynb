{
  "nbformat": 4,
  "nbformat_minor": 0,
  "metadata": {
    "colab": {
      "name": "employee_churt_rate.ipynb",
      "provenance": [],
      "authorship_tag": "ABX9TyPiLwv/yGZvtdWjd0rFd5JN",
      "include_colab_link": true
    },
    "kernelspec": {
      "name": "python3",
      "display_name": "Python 3"
    },
    "language_info": {
      "name": "python"
    }
  },
  "cells": [
    {
      "cell_type": "markdown",
      "metadata": {
        "id": "view-in-github",
        "colab_type": "text"
      },
      "source": [
        "<a href=\"https://colab.research.google.com/github/krish-dataai/ai_healthcare/blob/main/employee_churt_rate.ipynb\" target=\"_parent\"><img src=\"https://colab.research.google.com/assets/colab-badge.svg\" alt=\"Open In Colab\"/></a>"
      ]
    },
    {
      "cell_type": "markdown",
      "source": [
        "Cover the following topics:\n",
        "\n",
        "Data loading and understanding feature\n",
        "Exploratory data analysis\n",
        "Data visualization\n",
        "Cluster analysis\n",
        "Building prediction model\n",
        "Evaluating model performance\n",
        "1. Data loading and understanding feature\n",
        "In Research, it was found that employee churn will be affected by age, tenure, pay, job satisfaction, salary, working conditions, growth potential and employee’s perceptions of fairness.\n",
        "Some other variables such as age, gender, ethnicity, education, and marital status, were essential factors in the prediction of employee churn.\n",
        "In some cases such as the employee with niche skills are harder to replace. It affects the ongoing work and productivity of existing employees.\n",
        "Acquiring new employees as a replacement has its costs such as hiring costs and training costs.\n",
        "Also, the new employee will take time to learn skills at the similar level of technical or business expertise knowledge of an older employee.\n",
        "Organizations tackle this problem by applying machine learning techniques to predict employee churn, which helps them in taking necessary actions."
      ],
      "metadata": {
        "id": "lJ1XzTlKtsbF"
      }
    },
    {
      "cell_type": "markdown",
      "source": [
        "Exploratory Analysis\n",
        "Importing Modules"
      ],
      "metadata": {
        "id": "NHvkbV-4t1U5"
      }
    },
    {
      "cell_type": "code",
      "source": [
        ""
      ],
      "metadata": {
        "id": "Ilr188aor5gK"
      },
      "execution_count": null,
      "outputs": []
    },
    {
      "cell_type": "code",
      "execution_count": null,
      "metadata": {
        "id": "Q79Ct8h2qrV5"
      },
      "outputs": [],
      "source": [
        "import pandas  # for dataframes\n",
        "import matplotlib.pyplot as plt # for plotting graphs\n",
        "import seaborn as sns # for plotting graphs\n"
      ]
    },
    {
      "cell_type": "code",
      "source": [
        "data=pandas.read_csv('HR_comma_sep.csv')"
      ],
      "metadata": {
        "id": "Tg4H3dSGt_-V"
      },
      "execution_count": null,
      "outputs": []
    },
    {
      "cell_type": "code",
      "source": [
        "\n",
        "def predict(satisfaction,evaluation,project,hours,time,accident,promotion,department,sal):\n",
        "    satisfaction=float(satisfaction)/100\n",
        "    evaluation=float(evaluation)/100\n",
        "    data = {\n",
        "        \"Inputs\": {\n",
        "            \"WebServiceInput0\":\n",
        "                [\n",
        "                    {\n",
        "                        'satisfaction_level': satisfaction,\n",
        "                        'last_evaluation': evaluation,\n",
        "                        'number_project': project,\n",
        "                        'average_monthly_hours': hours,\n",
        "                        'time_spend_company': time,\n",
        "                        'work_accident': accident,\n",
        "                        'promotion_last_5years': promotion,\n",
        "                        'dept': department,\n",
        "                        'salary': sal,\n",
        "                    },\n",
        "                ],\n",
        "        },\n",
        "        \"GlobalParameters\":  {\n",
        "        }\n",
        "    }\n",
        "\n",
        "    body = str.encode(json.dumps(data))\n",
        "\n",
        "    headers = {'Content-Type': 'application/json',\n",
        "                 'Authorization': ('Bearer ' + key)}\n",
        "\n",
        "    req = urllib.request.Request(endpoint, body, headers)\n",
        "\n",
        "    try:\n",
        "            response = urllib.request.urlopen(req)\n",
        "            result = response.read()\n",
        "            json_result = json.loads(result)\n",
        "            output = json_result[\"Results\"][\"WebServiceOutput1\"][0]\n",
        "            results = int(output[\"Employee Churn Prediction\"])\n",
        "            return results\n",
        "\n",
        "    except urllib.error.HTTPError as error:\n",
        "            print(\"The request failed with status code: \" + str(error.code))\n",
        "            print(error.info())\n",
        "            print(json.loads(error.read().decode(\"utf8\", 'ignore')))"
      ],
      "metadata": {
        "id": "xA5-5gAWr7FQ"
      },
      "execution_count": null,
      "outputs": []
    }
  ]
}